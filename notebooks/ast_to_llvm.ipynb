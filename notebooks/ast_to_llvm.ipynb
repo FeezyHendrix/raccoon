{
 "cells": [
  {
   "cell_type": "code",
   "execution_count": 1,
   "metadata": {},
   "outputs": [
    {
     "name": "stdout",
     "output_type": "stream",
     "text": [
      "3.8.2 (default, Mar 11 2020, 00:28:52) \n",
      "[Clang 11.0.0 (clang-1100.0.33.17)]\n"
     ]
    }
   ],
   "source": [
    "import sys\n",
    "print(sys.version)"
   ]
  },
  {
   "cell_type": "code",
   "execution_count": null,
   "metadata": {},
   "outputs": [],
   "source": [
    "# LLVM Codegen Visitor\n",
    "\n",
    "from llvmlite import ir, binding as llvm\n",
    "\n",
    "class LLVMCodegenVisitor:\n",
    "    \"\"\"\n",
    "    This class walks an AST and generates an LLVM module.\n",
    "    \"\"\"\n",
    "\n",
    "    def __init__(self, ast):\n",
    "        self.ast = ast\n",
    "        self.module = None\n",
    "        pass\n",
    "\n",
    "    def act(self):\n",
    "        pass\n",
    "\n",
    "    def start_visit(self):\n",
    "        pass\n"
   ]
  },
  {
   "cell_type": "markdown",
   "metadata": {},
   "source": [
    "### EXAMPLE"
   ]
  },
  {
   "cell_type": "code",
   "execution_count": 2,
   "metadata": {},
   "outputs": [
    {
     "name": "stdout",
     "output_type": "stream",
     "text": [
      "Program(statements=[Function(name=Identifier(index=2), body=[ReturnStatement(exprs=BinaryExpr(lhs=Identifier(index=17), op=Operator(op=18, rem_op=None), rhs=Identifier(index=19)))], params=FuncParams(params=[FuncParam(name=Identifier(index=4), type_annotation=Type(type=Identifier(index=6)), default_value_expr=Null()), FuncParam(name=Identifier(index=8), type_annotation=Type(type=Identifier(index=10)), default_value_expr=Null())], tuple_rest_param=Null(), keyword_only_params=[], named_tuple_rest_param=Null()), return_type_annotation=Type(type=Identifier(index=13)), generics_annotation=Null(), is_async=False, decorators=[])])\n"
     ]
    }
   ],
   "source": [
    "from compiler.lexer.lexer import Lexer\n",
    "from compiler.parser.parser import Parser\n",
    "\n",
    "code =  \"\"\"\n",
    "def add(a: int, b: int) -> int:\n",
    "    return a + b\n",
    "\"\"\"\n",
    "\n",
    "# Lex code and generate tokens.\n",
    "tokens = Lexer(code).lex() \n",
    "\n",
    "# Parse tokens and generate AST.\n",
    "ast = Parser(tokens).parse()\n",
    "\n",
    "\n",
    "print(ast)"
   ]
  }
 ],
 "metadata": {
  "kernelspec": {
   "display_name": "Python 3",
   "language": "python",
   "name": "python3"
  },
  "language_info": {
   "codemirror_mode": {
    "name": "ipython",
    "version": 3
   },
   "file_extension": ".py",
   "mimetype": "text/x-python",
   "name": "python",
   "nbconvert_exporter": "python",
   "pygments_lexer": "ipython3",
   "version": "3.8.2"
  }
 },
 "nbformat": 4,
 "nbformat_minor": 4
}
