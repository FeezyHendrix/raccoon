{
 "cells": [
  {
   "cell_type": "code",
   "execution_count": 25,
   "metadata": {},
   "outputs": [],
   "source": [
    "from llvmlite import ir"
   ]
  },
  {
   "cell_type": "markdown",
   "metadata": {},
   "source": [
    "Build a simple function with a for loop that sum the first N integer, where N is the argument."
   ]
  },
  {
   "cell_type": "code",
   "execution_count": 14,
   "metadata": {},
   "outputs": [],
   "source": [
    "m = ir.Module()"
   ]
  },
  {
   "cell_type": "code",
   "execution_count": 15,
   "metadata": {
    "collapsed": false,
    "jupyter": {
     "outputs_hidden": false
    }
   },
   "outputs": [
    {
     "name": "stdout",
     "output_type": "stream",
     "text": [
      "i32 (i32)\n"
     ]
    }
   ],
   "source": [
    "fnty = ir.FunctionType(ir.IntType(32), [ir.IntType(32)])\n",
    "print(fnty)"
   ]
  },
  {
   "cell_type": "code",
   "execution_count": 16,
   "metadata": {
    "collapsed": false,
    "jupyter": {
     "outputs_hidden": false
    }
   },
   "outputs": [
    {
     "name": "stdout",
     "output_type": "stream",
     "text": [
      "declare i32 @\"count_number\"(i32 %\"N\") \n",
      "\n"
     ]
    }
   ],
   "source": [
    "fn = ir.Function(m, fnty, \"count_number\")\n",
    "fn.args[0].name= 'N'\n",
    "print(fn)"
   ]
  },
  {
   "cell_type": "code",
   "execution_count": 17,
   "metadata": {},
   "outputs": [],
   "source": [
    "builder = ir.IRBuilder(fn.append_basic_block('entry'))"
   ]
  },
  {
   "cell_type": "markdown",
   "metadata": {},
   "source": [
    "Initialize variable `ct` and `out` with `0`"
   ]
  },
  {
   "cell_type": "code",
   "execution_count": 18,
   "metadata": {
    "collapsed": false,
    "jupyter": {
     "outputs_hidden": false
    }
   },
   "outputs": [
    {
     "name": "stdout",
     "output_type": "stream",
     "text": [
      "define i32 @\"count_number\"(i32 %\"N\") \n",
      "{\n",
      "entry:\n",
      "  %\"out\" = alloca i32\n",
      "  %\"ct\" = alloca i32\n",
      "  store i32 0, i32* %\"out\"\n",
      "  store i32 0, i32* %\"ct\"\n",
      "}\n",
      "\n"
     ]
    }
   ],
   "source": [
    "out = builder.alloca(ir.IntType(32), name='out')\n",
    "ct = builder.alloca(ir.IntType(32), name='ct')\n",
    "builder.store(out.type.pointee(0), out)\n",
    "builder.store(ct.type.pointee(0), ct)\n",
    "print(fn)"
   ]
  },
  {
   "cell_type": "markdown",
   "metadata": {},
   "source": [
    "Populate loop header"
   ]
  },
  {
   "cell_type": "code",
   "execution_count": 19,
   "metadata": {
    "collapsed": false,
    "jupyter": {
     "outputs_hidden": false
    }
   },
   "outputs": [
    {
     "name": "stdout",
     "output_type": "stream",
     "text": [
      "define i32 @\"count_number\"(i32 %\"N\") \n",
      "{\n",
      "entry:\n",
      "  %\"out\" = alloca i32\n",
      "  %\"ct\" = alloca i32\n",
      "  store i32 0, i32* %\"out\"\n",
      "  store i32 0, i32* %\"ct\"\n",
      "  br label %\"loop.header\"\n",
      "loop.header:\n",
      "  %\".6\" = load i32, i32* %\"ct\"\n",
      "  %\".7\" = icmp slt i32 %\".6\", %\"N\"\n",
      "  br i1 %\".7\", label %\"loop.body\", label %\"loop.end\"\n",
      "loop.body:\n",
      "loop.end:\n",
      "}\n",
      "\n"
     ]
    }
   ],
   "source": [
    "loophead = fn.append_basic_block('loop.header')\n",
    "loopbody = fn.append_basic_block('loop.body')\n",
    "loopend = fn.append_basic_block('loop.end')\n",
    "\n",
    "builder.branch(loophead)\n",
    "builder.position_at_end(loophead)\n",
    "\n",
    "# loop if ct < arg0\n",
    "arg0 = fn.args[0]\n",
    "pred = builder.icmp_signed('<', builder.load(ct), arg0)\n",
    "builder.cbranch(pred, loopbody, loopend)\n",
    "\n",
    "print(fn)"
   ]
  },
  {
   "cell_type": "markdown",
   "metadata": {},
   "source": [
    "Populate loop body"
   ]
  },
  {
   "cell_type": "code",
   "execution_count": 20,
   "metadata": {
    "collapsed": false,
    "jupyter": {
     "outputs_hidden": false
    }
   },
   "outputs": [
    {
     "name": "stdout",
     "output_type": "stream",
     "text": [
      "define i32 @\"count_number\"(i32 %\"N\") \n",
      "{\n",
      "entry:\n",
      "  %\"out\" = alloca i32\n",
      "  %\"ct\" = alloca i32\n",
      "  store i32 0, i32* %\"out\"\n",
      "  store i32 0, i32* %\"ct\"\n",
      "  br label %\"loop.header\"\n",
      "loop.header:\n",
      "  %\".6\" = load i32, i32* %\"ct\"\n",
      "  %\".7\" = icmp slt i32 %\".6\", %\"N\"\n",
      "  br i1 %\".7\", label %\"loop.body\", label %\"loop.end\"\n",
      "loop.body:\n",
      "  %\".9\" = load i32, i32* %\"out\"\n",
      "  %\".10\" = load i32, i32* %\"ct\"\n",
      "  %\".11\" = add i32 %\".9\", %\".10\"\n",
      "  store i32 %\".11\", i32* %\"out\"\n",
      "  %\".13\" = load i32, i32* %\"ct\"\n",
      "  %\".14\" = add i32 %\".13\", 1\n",
      "  store i32 %\".14\", i32* %\"ct\"\n",
      "  br label %\"loop.header\"\n",
      "loop.end:\n",
      "}\n",
      "\n"
     ]
    }
   ],
   "source": [
    "builder.position_at_end(loopbody)\n",
    "\n",
    "# out += ct\n",
    "builder.store(builder.add(builder.load(out), builder.load(ct)), out)\n",
    "# ct += 1\n",
    "builder.store(builder.add(builder.load(ct), ct.type.pointee(1)), ct)\n",
    "# jump to loophead\n",
    "builder.branch(loophead)\n",
    "\n",
    "print(fn)"
   ]
  },
  {
   "cell_type": "markdown",
   "metadata": {},
   "source": [
    "Populate loop end"
   ]
  },
  {
   "cell_type": "code",
   "execution_count": 21,
   "metadata": {
    "collapsed": false,
    "jupyter": {
     "outputs_hidden": false
    }
   },
   "outputs": [
    {
     "name": "stdout",
     "output_type": "stream",
     "text": [
      "define i32 @\"count_number\"(i32 %\"N\") \n",
      "{\n",
      "entry:\n",
      "  %\"out\" = alloca i32\n",
      "  %\"ct\" = alloca i32\n",
      "  store i32 0, i32* %\"out\"\n",
      "  store i32 0, i32* %\"ct\"\n",
      "  br label %\"loop.header\"\n",
      "loop.header:\n",
      "  %\".6\" = load i32, i32* %\"ct\"\n",
      "  %\".7\" = icmp slt i32 %\".6\", %\"N\"\n",
      "  br i1 %\".7\", label %\"loop.body\", label %\"loop.end\"\n",
      "loop.body:\n",
      "  %\".9\" = load i32, i32* %\"out\"\n",
      "  %\".10\" = load i32, i32* %\"ct\"\n",
      "  %\".11\" = add i32 %\".9\", %\".10\"\n",
      "  store i32 %\".11\", i32* %\"out\"\n",
      "  %\".13\" = load i32, i32* %\"ct\"\n",
      "  %\".14\" = add i32 %\".13\", 1\n",
      "  store i32 %\".14\", i32* %\"ct\"\n",
      "  br label %\"loop.header\"\n",
      "loop.end:\n",
      "  %\".17\" = load i32, i32* %\"out\"\n",
      "  ret i32 %\".17\"\n",
      "}\n",
      "\n"
     ]
    }
   ],
   "source": [
    "builder.position_at_end(loopend)\n",
    "\n",
    "builder.ret(builder.load(out))\n",
    "\n",
    "print(fn)"
   ]
  },
  {
   "cell_type": "markdown",
   "metadata": {},
   "source": [
    "Visualize CFG"
   ]
  },
  {
   "cell_type": "code",
   "execution_count": 22,
   "metadata": {
    "collapsed": false,
    "jupyter": {
     "outputs_hidden": false
    }
   },
   "outputs": [
    {
     "data": {
      "image/svg+xml": [
       "<svg height=\"438pt\" viewBox=\"0.00 0.00 369.50 438.00\" width=\"370pt\" xmlns=\"http://www.w3.org/2000/svg\" xmlns:xlink=\"http://www.w3.org/1999/xlink\">\n",
       "<g class=\"graph\" id=\"graph0\" transform=\"scale(1 1) rotate(0) translate(4 434)\">\n",
       "<title>CFG for 'count_number' function</title>\n",
       "<polygon fill=\"#ffffff\" points=\"-4,4 -4,-434 365.5,-434 365.5,4 -4,4\" stroke=\"transparent\"/>\n",
       "<text fill=\"#000000\" font-family=\"Times,serif\" font-size=\"14.00\" text-anchor=\"middle\" x=\"180.75\" y=\"-7.8\">CFG for 'count_number' function</text>\n",
       "<!-- Node0x7fc5fab22100 -->\n",
       "<g class=\"node\" id=\"node1\">\n",
       "<title>Node0x7fc5fab22100</title>\n",
       "<polygon fill=\"none\" points=\"81,-331.5 81,-429.5 225,-429.5 225,-331.5 81,-331.5\" stroke=\"#000000\"/>\n",
       "<text fill=\"#000000\" font-family=\"Times,serif\" font-size=\"14.00\" text-anchor=\"start\" x=\"89\" y=\"-414.3\">entry:</text>\n",
       "<text fill=\"#000000\" font-family=\"Times,serif\" font-size=\"14.00\" text-anchor=\"start\" x=\"89\" y=\"-399.3\"> %out = alloca i32</text>\n",
       "<text fill=\"#000000\" font-family=\"Times,serif\" font-size=\"14.00\" text-anchor=\"start\" x=\"89\" y=\"-384.3\"> %ct = alloca i32</text>\n",
       "<text fill=\"#000000\" font-family=\"Times,serif\" font-size=\"14.00\" text-anchor=\"start\" x=\"89\" y=\"-369.3\"> store i32 0, i32* %out</text>\n",
       "<text fill=\"#000000\" font-family=\"Times,serif\" font-size=\"14.00\" text-anchor=\"start\" x=\"89\" y=\"-354.3\"> store i32 0, i32* %ct</text>\n",
       "<text fill=\"#000000\" font-family=\"Times,serif\" font-size=\"14.00\" text-anchor=\"start\" x=\"89\" y=\"-339.3\"> br label %loop.header</text>\n",
       "</g>\n",
       "<!-- Node0x7fc5fab0f320 -->\n",
       "<g class=\"node\" id=\"node2\">\n",
       "<title>Node0x7fc5fab0f320</title>\n",
       "<polygon fill=\"none\" points=\"15.5,-203.5 15.5,-294.5 290.5,-294.5 290.5,-203.5 15.5,-203.5\" stroke=\"#000000\"/>\n",
       "<text fill=\"#000000\" font-family=\"Times,serif\" font-size=\"14.00\" text-anchor=\"start\" x=\"23.5\" y=\"-279.3\">loop.header: </text>\n",
       "<text fill=\"#000000\" font-family=\"Times,serif\" font-size=\"14.00\" text-anchor=\"start\" x=\"23.5\" y=\"-264.3\"> %.6 = load i32, i32* %ct</text>\n",
       "<text fill=\"#000000\" font-family=\"Times,serif\" font-size=\"14.00\" text-anchor=\"start\" x=\"23.5\" y=\"-249.3\"> %.7 = icmp slt i32 %.6, %N</text>\n",
       "<text fill=\"#000000\" font-family=\"Times,serif\" font-size=\"14.00\" text-anchor=\"start\" x=\"23.5\" y=\"-234.3\"> br i1 %.7, label %loop.body, label %loop.end</text>\n",
       "<polyline fill=\"none\" points=\"15.5,-226.5 290.5,-226.5 \" stroke=\"#000000\"/>\n",
       "<text fill=\"#000000\" font-family=\"Times,serif\" font-size=\"14.00\" text-anchor=\"middle\" x=\"84.5\" y=\"-211.3\">T</text>\n",
       "<polyline fill=\"none\" points=\"153.5,-203.5 153.5,-226.5 \" stroke=\"#000000\"/>\n",
       "<text fill=\"#000000\" font-family=\"Times,serif\" font-size=\"14.00\" text-anchor=\"middle\" x=\"222\" y=\"-211.3\">F</text>\n",
       "</g>\n",
       "<!-- Node0x7fc5fab22100&#45;&gt;Node0x7fc5fab0f320 -->\n",
       "<g class=\"edge\" id=\"edge1\">\n",
       "<title>Node0x7fc5fab22100-&gt;Node0x7fc5fab0f320</title>\n",
       "<path d=\"M153,-331.1601C153,-322.5696 153,-313.5798 153,-304.8299\" fill=\"none\" stroke=\"#000000\"/>\n",
       "<polygon fill=\"#000000\" points=\"156.5001,-304.7068 153,-294.7068 149.5001,-304.7069 156.5001,-304.7068\" stroke=\"#000000\"/>\n",
       "</g>\n",
       "<!-- Node0x7fc5fab24790 -->\n",
       "<g class=\"node\" id=\"node3\">\n",
       "<title>Node0x7fc5fab24790</title>\n",
       "<polygon fill=\"none\" points=\"0,-23.5 0,-166.5 168,-166.5 168,-23.5 0,-23.5\" stroke=\"#000000\"/>\n",
       "<text fill=\"#000000\" font-family=\"Times,serif\" font-size=\"14.00\" text-anchor=\"start\" x=\"8\" y=\"-151.3\">loop.body: </text>\n",
       "<text fill=\"#000000\" font-family=\"Times,serif\" font-size=\"14.00\" text-anchor=\"start\" x=\"8\" y=\"-136.3\"> %.9 = load i32, i32* %out</text>\n",
       "<text fill=\"#000000\" font-family=\"Times,serif\" font-size=\"14.00\" text-anchor=\"start\" x=\"8\" y=\"-121.3\"> %.10 = load i32, i32* %ct</text>\n",
       "<text fill=\"#000000\" font-family=\"Times,serif\" font-size=\"14.00\" text-anchor=\"start\" x=\"8\" y=\"-106.3\"> %.11 = add i32 %.9, %.10</text>\n",
       "<text fill=\"#000000\" font-family=\"Times,serif\" font-size=\"14.00\" text-anchor=\"start\" x=\"8\" y=\"-91.3\"> store i32 %.11, i32* %out</text>\n",
       "<text fill=\"#000000\" font-family=\"Times,serif\" font-size=\"14.00\" text-anchor=\"start\" x=\"8\" y=\"-76.3\"> %.13 = load i32, i32* %ct</text>\n",
       "<text fill=\"#000000\" font-family=\"Times,serif\" font-size=\"14.00\" text-anchor=\"start\" x=\"8\" y=\"-61.3\"> %.14 = add i32 %.13, 1</text>\n",
       "<text fill=\"#000000\" font-family=\"Times,serif\" font-size=\"14.00\" text-anchor=\"start\" x=\"8\" y=\"-46.3\"> store i32 %.14, i32* %ct</text>\n",
       "<text fill=\"#000000\" font-family=\"Times,serif\" font-size=\"14.00\" text-anchor=\"start\" x=\"8\" y=\"-31.3\"> br label %loop.header</text>\n",
       "</g>\n",
       "<!-- Node0x7fc5fab0f320&#45;&gt;Node0x7fc5fab24790 -->\n",
       "<g class=\"edge\" id=\"edge2\">\n",
       "<title>Node0x7fc5fab0f320:s0-&gt;Node0x7fc5fab24790</title>\n",
       "<path d=\"M84,-203C82.4035,-194.4856 81.0903,-185.5936 80.0602,-176.7259\" fill=\"none\" stroke=\"#000000\"/>\n",
       "<polygon fill=\"#000000\" points=\"83.5378,-176.3279 79.0175,-166.7457 76.5756,-177.0553 83.5378,-176.3279\" stroke=\"#000000\"/>\n",
       "</g>\n",
       "<!-- Node0x7fc5fab247f0 -->\n",
       "<g class=\"node\" id=\"node4\">\n",
       "<title>Node0x7fc5fab247f0</title>\n",
       "<polygon fill=\"none\" points=\"186.5,-68.5 186.5,-121.5 361.5,-121.5 361.5,-68.5 186.5,-68.5\" stroke=\"#000000\"/>\n",
       "<text fill=\"#000000\" font-family=\"Times,serif\" font-size=\"14.00\" text-anchor=\"start\" x=\"194.5\" y=\"-106.3\">loop.end: </text>\n",
       "<text fill=\"#000000\" font-family=\"Times,serif\" font-size=\"14.00\" text-anchor=\"start\" x=\"194.5\" y=\"-91.3\"> %.17 = load i32, i32* %out</text>\n",
       "<text fill=\"#000000\" font-family=\"Times,serif\" font-size=\"14.00\" text-anchor=\"start\" x=\"194.5\" y=\"-76.3\"> ret i32 %.17</text>\n",
       "</g>\n",
       "<!-- Node0x7fc5fab0f320&#45;&gt;Node0x7fc5fab247f0 -->\n",
       "<g class=\"edge\" id=\"edge3\">\n",
       "<title>Node0x7fc5fab0f320:s1-&gt;Node0x7fc5fab247f0</title>\n",
       "<path d=\"M222,-203C222,-176.8962 234.4847,-150.4439 247.2193,-130.2518\" fill=\"none\" stroke=\"#000000\"/>\n",
       "<polygon fill=\"#000000\" points=\"250.2627,-131.9945 252.8496,-121.7203 244.4203,-128.1388 250.2627,-131.9945\" stroke=\"#000000\"/>\n",
       "</g>\n",
       "<!-- Node0x7fc5fab24790&#45;&gt;Node0x7fc5fab0f320 -->\n",
       "<g class=\"edge\" id=\"edge4\">\n",
       "<title>Node0x7fc5fab24790-&gt;Node0x7fc5fab0f320</title>\n",
       "<path d=\"M89.0028,-166.5262C88.2009,-175.2043 87.1229,-184.0567 85.7689,-192.6967\" fill=\"none\" stroke=\"#000000\"/>\n",
       "<polygon fill=\"#000000\" points=\"82.2909,-192.2713 84.0526,-202.7186 89.1905,-193.4529 82.2909,-192.2713\" stroke=\"#000000\"/>\n",
       "</g>\n",
       "</g>\n",
       "</svg>"
      ],
      "text/plain": [
       "<IPython.core.display.SVG object>"
      ]
     },
     "execution_count": 22,
     "metadata": {},
     "output_type": "execute_result"
    }
   ],
   "source": [
    "from llvmlite import binding as llvm\n",
    "\n",
    "dot = llvm.get_function_cfg(fn)\n",
    "llvm.view_dot_graph(dot)"
   ]
  },
  {
   "cell_type": "markdown",
   "metadata": {},
   "source": [
    "Optimize the function"
   ]
  },
  {
   "cell_type": "code",
   "execution_count": 23,
   "metadata": {
    "collapsed": false,
    "jupyter": {
     "outputs_hidden": false
    }
   },
   "outputs": [
    {
     "name": "stdout",
     "output_type": "stream",
     "text": [
      "; ModuleID = '<string>'\n",
      "source_filename = \"<string>\"\n",
      "target triple = \"unknown-unknown-unknown\"\n",
      "\n",
      "; Function Attrs: norecurse nounwind readnone\n",
      "define i32 @count_number(i32 %N) local_unnamed_addr #0 {\n",
      "entry:\n",
      "  %.71 = icmp sgt i32 %N, 0\n",
      "  br i1 %.71, label %loop.body.preheader, label %loop.end\n",
      "\n",
      "loop.body.preheader:                              ; preds = %entry\n",
      "  %0 = add i32 %N, -1\n",
      "  %1 = zext i32 %0 to i33\n",
      "  %2 = add i32 %N, -2\n",
      "  %3 = zext i32 %2 to i33\n",
      "  %4 = mul i33 %1, %3\n",
      "  %5 = lshr i33 %4, 1\n",
      "  %6 = trunc i33 %5 to i32\n",
      "  %7 = add i32 %6, %N\n",
      "  %8 = add i32 %7, -1\n",
      "  br label %loop.end\n",
      "\n",
      "loop.end:                                         ; preds = %loop.body.preheader, %entry\n",
      "  %out.0.lcssa = phi i32 [ 0, %entry ], [ %8, %loop.body.preheader ]\n",
      "  ret i32 %out.0.lcssa\n",
      "}\n",
      "\n",
      "attributes #0 = { norecurse nounwind readnone }\n",
      "\n"
     ]
    }
   ],
   "source": [
    "# materialize a LLVM module\n",
    "mod = llvm.parse_assembly(str(m))\n",
    "\n",
    "# create optimizer\n",
    "pmb = llvm.create_pass_manager_builder()\n",
    "# pmb.inlining_threshold = 2\n",
    "# pmb.opt_level = 3  # -O3\n",
    "\n",
    "pm = llvm.create_module_pass_manager()\n",
    "\n",
    "# need to initialize, otherwise pmb.populate fails\n",
    "llvm.initialize()\n",
    "llvm.initialize_native_target()\n",
    "llvm.initialize_native_asmprinter()\n",
    "\n",
    "pmb.populate(pm)\n",
    "\n",
    "# # optimize\n",
    "pm.run(mod)\n",
    "\n",
    "print(mod)"
   ]
  },
  {
   "cell_type": "markdown",
   "metadata": {},
   "source": [
    "View optimized CFG"
   ]
  },
  {
   "cell_type": "code",
   "execution_count": 24,
   "metadata": {
    "collapsed": false,
    "jupyter": {
     "outputs_hidden": false
    }
   },
   "outputs": [
    {
     "data": {
      "image/svg+xml": [
       "<svg height=\"408pt\" viewBox=\"0.00 0.00 403.00 408.00\" width=\"403pt\" xmlns=\"http://www.w3.org/2000/svg\" xmlns:xlink=\"http://www.w3.org/1999/xlink\">\n",
       "<g class=\"graph\" id=\"graph0\" transform=\"scale(1 1) rotate(0) translate(4 404)\">\n",
       "<title>CFG for 'count_number' function</title>\n",
       "<polygon fill=\"#ffffff\" points=\"-4,4 -4,-404 399,-404 399,4 -4,4\" stroke=\"transparent\"/>\n",
       "<text fill=\"#000000\" font-family=\"Times,serif\" font-size=\"14.00\" text-anchor=\"middle\" x=\"197.5\" y=\"-7.8\">CFG for 'count_number' function</text>\n",
       "<!-- Node0x7fc5f85762a0 -->\n",
       "<g class=\"node\" id=\"node1\">\n",
       "<title>Node0x7fc5f85762a0</title>\n",
       "<polygon fill=\"none\" points=\"42,-323.5 42,-399.5 383,-399.5 383,-323.5 42,-323.5\" stroke=\"#000000\"/>\n",
       "<text fill=\"#000000\" font-family=\"Times,serif\" font-size=\"14.00\" text-anchor=\"start\" x=\"50\" y=\"-384.3\">entry:</text>\n",
       "<text fill=\"#000000\" font-family=\"Times,serif\" font-size=\"14.00\" text-anchor=\"start\" x=\"50\" y=\"-369.3\"> %.71 = icmp sgt i32 %N, 0</text>\n",
       "<text fill=\"#000000\" font-family=\"Times,serif\" font-size=\"14.00\" text-anchor=\"start\" x=\"50\" y=\"-354.3\"> br i1 %.71, label %loop.body.preheader, label %loop.end</text>\n",
       "<polyline fill=\"none\" points=\"42,-346.5 383,-346.5 \" stroke=\"#000000\"/>\n",
       "<text fill=\"#000000\" font-family=\"Times,serif\" font-size=\"14.00\" text-anchor=\"middle\" x=\"127.5\" y=\"-331.3\">T</text>\n",
       "<polyline fill=\"none\" points=\"213,-323.5 213,-346.5 \" stroke=\"#000000\"/>\n",
       "<text fill=\"#000000\" font-family=\"Times,serif\" font-size=\"14.00\" text-anchor=\"middle\" x=\"298\" y=\"-331.3\">F</text>\n",
       "</g>\n",
       "<!-- Node0x7fc5f857fd00 -->\n",
       "<g class=\"node\" id=\"node2\">\n",
       "<title>Node0x7fc5f857fd00</title>\n",
       "<polygon fill=\"none\" points=\"62.5,-113.5 62.5,-286.5 224.5,-286.5 224.5,-113.5 62.5,-113.5\" stroke=\"#000000\"/>\n",
       "<text fill=\"#000000\" font-family=\"Times,serif\" font-size=\"14.00\" text-anchor=\"start\" x=\"70.5\" y=\"-271.3\">loop.body.preheader: </text>\n",
       "<text fill=\"#000000\" font-family=\"Times,serif\" font-size=\"14.00\" text-anchor=\"start\" x=\"70.5\" y=\"-256.3\"> %0 = add i32 %N, -1</text>\n",
       "<text fill=\"#000000\" font-family=\"Times,serif\" font-size=\"14.00\" text-anchor=\"start\" x=\"70.5\" y=\"-241.3\"> %1 = zext i32 %0 to i33</text>\n",
       "<text fill=\"#000000\" font-family=\"Times,serif\" font-size=\"14.00\" text-anchor=\"start\" x=\"70.5\" y=\"-226.3\"> %2 = add i32 %N, -2</text>\n",
       "<text fill=\"#000000\" font-family=\"Times,serif\" font-size=\"14.00\" text-anchor=\"start\" x=\"70.5\" y=\"-211.3\"> %3 = zext i32 %2 to i33</text>\n",
       "<text fill=\"#000000\" font-family=\"Times,serif\" font-size=\"14.00\" text-anchor=\"start\" x=\"70.5\" y=\"-196.3\"> %4 = mul i33 %1, %3</text>\n",
       "<text fill=\"#000000\" font-family=\"Times,serif\" font-size=\"14.00\" text-anchor=\"start\" x=\"70.5\" y=\"-181.3\"> %5 = lshr i33 %4, 1</text>\n",
       "<text fill=\"#000000\" font-family=\"Times,serif\" font-size=\"14.00\" text-anchor=\"start\" x=\"70.5\" y=\"-166.3\"> %6 = trunc i33 %5 to i32</text>\n",
       "<text fill=\"#000000\" font-family=\"Times,serif\" font-size=\"14.00\" text-anchor=\"start\" x=\"70.5\" y=\"-151.3\"> %7 = add i32 %6, %N</text>\n",
       "<text fill=\"#000000\" font-family=\"Times,serif\" font-size=\"14.00\" text-anchor=\"start\" x=\"70.5\" y=\"-136.3\"> %8 = add i32 %7, -1</text>\n",
       "<text fill=\"#000000\" font-family=\"Times,serif\" font-size=\"14.00\" text-anchor=\"start\" x=\"70.5\" y=\"-121.3\"> br label %loop.end</text>\n",
       "</g>\n",
       "<!-- Node0x7fc5f85762a0&#45;&gt;Node0x7fc5f857fd00 -->\n",
       "<g class=\"edge\" id=\"edge1\">\n",
       "<title>Node0x7fc5f85762a0:s0-&gt;Node0x7fc5f857fd00</title>\n",
       "<path d=\"M127.5,-323.5C127.5,-314.7818 127.897,-305.746 128.5659,-296.7088\" fill=\"none\" stroke=\"#000000\"/>\n",
       "<polygon fill=\"#000000\" points=\"132.0722,-296.7819 129.43,-286.5218 125.0972,-296.1902 132.0722,-296.7819\" stroke=\"#000000\"/>\n",
       "</g>\n",
       "<!-- Node0x7fc5f8579800 -->\n",
       "<g class=\"node\" id=\"node3\">\n",
       "<title>Node0x7fc5f8579800</title>\n",
       "<polygon fill=\"none\" points=\"0,-23.5 0,-76.5 395,-76.5 395,-23.5 0,-23.5\" stroke=\"#000000\"/>\n",
       "<text fill=\"#000000\" font-family=\"Times,serif\" font-size=\"14.00\" text-anchor=\"start\" x=\"8\" y=\"-61.3\">loop.end: </text>\n",
       "<text fill=\"#000000\" font-family=\"Times,serif\" font-size=\"14.00\" text-anchor=\"start\" x=\"8\" y=\"-46.3\"> %out.0.lcssa = phi i32 [ 0, %entry ], [ %8, %loop.body.preheader ]</text>\n",
       "<text fill=\"#000000\" font-family=\"Times,serif\" font-size=\"14.00\" text-anchor=\"start\" x=\"8\" y=\"-31.3\"> ret i32 %out.0.lcssa</text>\n",
       "</g>\n",
       "<!-- Node0x7fc5f85762a0&#45;&gt;Node0x7fc5f8579800 -->\n",
       "<g class=\"edge\" id=\"edge2\">\n",
       "<title>Node0x7fc5f85762a0:s1-&gt;Node0x7fc5f8579800</title>\n",
       "<path d=\"M298.5,-323.5C298.5,-233.2527 249.5087,-136.0488 219.7674,-85.354\" fill=\"none\" stroke=\"#000000\"/>\n",
       "<polygon fill=\"#000000\" points=\"222.7587,-83.5363 214.6333,-76.7372 216.7452,-87.1194 222.7587,-83.5363\" stroke=\"#000000\"/>\n",
       "</g>\n",
       "<!-- Node0x7fc5f857fd00&#45;&gt;Node0x7fc5f8579800 -->\n",
       "<g class=\"edge\" id=\"edge3\">\n",
       "<title>Node0x7fc5f857fd00-&gt;Node0x7fc5f8579800</title>\n",
       "<path d=\"M174.7556,-113.1788C178.1383,-103.7824 181.4296,-94.6399 184.4098,-86.3615\" fill=\"none\" stroke=\"#000000\"/>\n",
       "<polygon fill=\"#000000\" points=\"187.7819,-87.3276 187.876,-76.7332 181.1957,-84.9566 187.7819,-87.3276\" stroke=\"#000000\"/>\n",
       "</g>\n",
       "</g>\n",
       "</svg>"
      ],
      "text/plain": [
       "<IPython.core.display.SVG object>"
      ]
     },
     "execution_count": 24,
     "metadata": {},
     "output_type": "execute_result"
    }
   ],
   "source": [
    "dot = llvm.get_function_cfg(mod.get_function(fn.name))\n",
    "llvm.view_dot_graph(dot)"
   ]
  },
  {
   "cell_type": "markdown",
   "metadata": {},
   "source": [
    "Notice LLVM has optimized the looping away."
   ]
  },
  {
   "cell_type": "code",
   "execution_count": null,
   "metadata": {},
   "outputs": [],
   "source": []
  }
 ],
 "metadata": {
  "kernelspec": {
   "display_name": "Python 3",
   "language": "python",
   "name": "python3"
  },
  "language_info": {
   "codemirror_mode": {
    "name": "ipython",
    "version": 3
   },
   "file_extension": ".py",
   "mimetype": "text/x-python",
   "name": "python",
   "nbconvert_exporter": "python",
   "pygments_lexer": "ipython3",
   "version": "3.7.7"
  }
 },
 "nbformat": 4,
 "nbformat_minor": 4
}
