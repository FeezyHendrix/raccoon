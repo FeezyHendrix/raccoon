{
 "cells": [
  {
   "cell_type": "code",
   "execution_count": 1,
   "metadata": {},
   "outputs": [],
   "source": [
    "from llvmlite import ir"
   ]
  },
  {
   "cell_type": "markdown",
   "metadata": {},
   "source": [
    "Build a simple function with a for loop that sum the first N integer, where N is the argument."
   ]
  },
  {
   "cell_type": "code",
   "execution_count": 2,
   "metadata": {},
   "outputs": [],
   "source": [
    "m = ir.Module()"
   ]
  },
  {
   "cell_type": "code",
   "execution_count": 3,
   "metadata": {
    "collapsed": false,
    "jupyter": {
     "outputs_hidden": false
    }
   },
   "outputs": [
    {
     "name": "stdout",
     "output_type": "stream",
     "text": [
      "i32 (i32)\n"
     ]
    }
   ],
   "source": [
    "fnty = ir.FunctionType(ir.IntType(32), [ir.IntType(32)])\n",
    "print(fnty)"
   ]
  },
  {
   "cell_type": "code",
   "execution_count": 4,
   "metadata": {
    "collapsed": false,
    "jupyter": {
     "outputs_hidden": false
    }
   },
   "outputs": [
    {
     "name": "stdout",
     "output_type": "stream",
     "text": [
      "declare i32 @\"count_number\"(i32 %\"N\") \n",
      "\n"
     ]
    }
   ],
   "source": [
    "fn = ir.Function(m, fnty, \"count_number\")\n",
    "fn.args[0].name= 'N'\n",
    "print(fn)"
   ]
  },
  {
   "cell_type": "code",
   "execution_count": 5,
   "metadata": {},
   "outputs": [],
   "source": [
    "builder = ir.IRBuilder(fn.append_basic_block('entry'))"
   ]
  },
  {
   "cell_type": "markdown",
   "metadata": {},
   "source": [
    "Initialize variable `ct` and `out` with `0`"
   ]
  },
  {
   "cell_type": "code",
   "execution_count": 6,
   "metadata": {
    "collapsed": false,
    "jupyter": {
     "outputs_hidden": false
    }
   },
   "outputs": [
    {
     "name": "stdout",
     "output_type": "stream",
     "text": [
      "define i32 @\"count_number\"(i32 %\"N\") \n",
      "{\n",
      "entry:\n",
      "  %\"out\" = alloca i32\n",
      "  %\"ct\" = alloca i32\n",
      "  store i32 0, i32* %\"out\"\n",
      "  store i32 0, i32* %\"ct\"\n",
      "}\n",
      "\n"
     ]
    }
   ],
   "source": [
    "out = builder.alloca(ir.IntType(32), name='out')\n",
    "ct = builder.alloca(ir.IntType(32), name='ct')\n",
    "builder.store(out.type.pointee(0), out)\n",
    "builder.store(ct.type.pointee(0), ct)\n",
    "print(fn)"
   ]
  },
  {
   "cell_type": "markdown",
   "metadata": {},
   "source": [
    "Populate loop header"
   ]
  },
  {
   "cell_type": "code",
   "execution_count": 7,
   "metadata": {
    "collapsed": false,
    "jupyter": {
     "outputs_hidden": false
    }
   },
   "outputs": [
    {
     "name": "stdout",
     "output_type": "stream",
     "text": [
      "define i32 @\"count_number\"(i32 %\"N\") \n",
      "{\n",
      "entry:\n",
      "  %\"out\" = alloca i32\n",
      "  %\"ct\" = alloca i32\n",
      "  store i32 0, i32* %\"out\"\n",
      "  store i32 0, i32* %\"ct\"\n",
      "  br label %\"loop.header\"\n",
      "loop.header:\n",
      "  %\".6\" = load i32, i32* %\"ct\"\n",
      "  %\".7\" = icmp slt i32 %\".6\", %\"N\"\n",
      "  br i1 %\".7\", label %\"loop.body\", label %\"loop.end\"\n",
      "loop.body:\n",
      "loop.end:\n",
      "}\n",
      "\n"
     ]
    }
   ],
   "source": [
    "loophead = fn.append_basic_block('loop.header')\n",
    "loopbody = fn.append_basic_block('loop.body')\n",
    "loopend = fn.append_basic_block('loop.end')\n",
    "\n",
    "builder.branch(loophead)\n",
    "builder.position_at_end(loophead)\n",
    "\n",
    "# loop if ct < arg0\n",
    "arg0 = fn.args[0]\n",
    "pred = builder.icmp_signed('<', builder.load(ct), arg0)\n",
    "builder.cbranch(pred, loopbody, loopend)\n",
    "\n",
    "print(fn)"
   ]
  },
  {
   "cell_type": "markdown",
   "metadata": {},
   "source": [
    "Populate loop body"
   ]
  },
  {
   "cell_type": "code",
   "execution_count": 8,
   "metadata": {
    "collapsed": false,
    "jupyter": {
     "outputs_hidden": false
    }
   },
   "outputs": [
    {
     "name": "stdout",
     "output_type": "stream",
     "text": [
      "define i32 @\"count_number\"(i32 %\"N\") \n",
      "{\n",
      "entry:\n",
      "  %\"out\" = alloca i32\n",
      "  %\"ct\" = alloca i32\n",
      "  store i32 0, i32* %\"out\"\n",
      "  store i32 0, i32* %\"ct\"\n",
      "  br label %\"loop.header\"\n",
      "loop.header:\n",
      "  %\".6\" = load i32, i32* %\"ct\"\n",
      "  %\".7\" = icmp slt i32 %\".6\", %\"N\"\n",
      "  br i1 %\".7\", label %\"loop.body\", label %\"loop.end\"\n",
      "loop.body:\n",
      "  %\".9\" = load i32, i32* %\"out\"\n",
      "  %\".10\" = load i32, i32* %\"ct\"\n",
      "  %\".11\" = add i32 %\".9\", %\".10\"\n",
      "  store i32 %\".11\", i32* %\"out\"\n",
      "  %\".13\" = load i32, i32* %\"ct\"\n",
      "  %\".14\" = add i32 %\".13\", 1\n",
      "  store i32 %\".14\", i32* %\"ct\"\n",
      "  br label %\"loop.header\"\n",
      "loop.end:\n",
      "}\n",
      "\n"
     ]
    }
   ],
   "source": [
    "builder.position_at_end(loopbody)\n",
    "\n",
    "# out += ct\n",
    "builder.store(builder.add(builder.load(out), builder.load(ct)), out)\n",
    "# ct += 1\n",
    "builder.store(builder.add(builder.load(ct), ct.type.pointee(1)), ct)\n",
    "# jump to loophead\n",
    "builder.branch(loophead)\n",
    "\n",
    "print(fn)"
   ]
  },
  {
   "cell_type": "markdown",
   "metadata": {},
   "source": [
    "Populate loop end"
   ]
  },
  {
   "cell_type": "code",
   "execution_count": 9,
   "metadata": {
    "collapsed": false,
    "jupyter": {
     "outputs_hidden": false
    }
   },
   "outputs": [
    {
     "name": "stdout",
     "output_type": "stream",
     "text": [
      "define i32 @\"count_number\"(i32 %\"N\") \n",
      "{\n",
      "entry:\n",
      "  %\"out\" = alloca i32\n",
      "  %\"ct\" = alloca i32\n",
      "  store i32 0, i32* %\"out\"\n",
      "  store i32 0, i32* %\"ct\"\n",
      "  br label %\"loop.header\"\n",
      "loop.header:\n",
      "  %\".6\" = load i32, i32* %\"ct\"\n",
      "  %\".7\" = icmp slt i32 %\".6\", %\"N\"\n",
      "  br i1 %\".7\", label %\"loop.body\", label %\"loop.end\"\n",
      "loop.body:\n",
      "  %\".9\" = load i32, i32* %\"out\"\n",
      "  %\".10\" = load i32, i32* %\"ct\"\n",
      "  %\".11\" = add i32 %\".9\", %\".10\"\n",
      "  store i32 %\".11\", i32* %\"out\"\n",
      "  %\".13\" = load i32, i32* %\"ct\"\n",
      "  %\".14\" = add i32 %\".13\", 1\n",
      "  store i32 %\".14\", i32* %\"ct\"\n",
      "  br label %\"loop.header\"\n",
      "loop.end:\n",
      "  %\".17\" = load i32, i32* %\"out\"\n",
      "  ret i32 %\".17\"\n",
      "}\n",
      "\n"
     ]
    }
   ],
   "source": [
    "builder.position_at_end(loopend)\n",
    "\n",
    "builder.ret(builder.load(out))\n",
    "\n",
    "print(fn)"
   ]
  },
  {
   "cell_type": "markdown",
   "metadata": {},
   "source": [
    "Visualize CFG"
   ]
  },
  {
   "cell_type": "code",
   "execution_count": 10,
   "metadata": {
    "collapsed": false,
    "jupyter": {
     "outputs_hidden": false
    }
   },
   "outputs": [
    {
     "data": {
      "image/svg+xml": [
       "<svg xmlns=\"http://www.w3.org/2000/svg\" xmlns:xlink=\"http://www.w3.org/1999/xlink\" width=\"370pt\" height=\"438pt\" viewBox=\"0.00 0.00 369.50 438.00\">\n",
       "<g id=\"graph0\" class=\"graph\" transform=\"scale(1 1) rotate(0) translate(4 434)\">\n",
       "<title>CFG for 'count_number' function</title>\n",
       "<polygon fill=\"#ffffff\" stroke=\"transparent\" points=\"-4,4 -4,-434 365.5,-434 365.5,4 -4,4\"/>\n",
       "<text text-anchor=\"middle\" x=\"180.75\" y=\"-7.8\" font-family=\"Times,serif\" font-size=\"14.00\" fill=\"#000000\">CFG for 'count_number' function</text>\n",
       "<!-- Node0x7fc1c5a475a0 -->\n",
       "<g id=\"node1\" class=\"node\">\n",
       "<title>Node0x7fc1c5a475a0</title>\n",
       "<polygon fill=\"none\" stroke=\"#000000\" points=\"81,-331.5 81,-429.5 225,-429.5 225,-331.5 81,-331.5\"/>\n",
       "<text text-anchor=\"start\" x=\"89\" y=\"-414.3\" font-family=\"Times,serif\" font-size=\"14.00\" fill=\"#000000\">entry:</text>\n",
       "<text text-anchor=\"start\" x=\"89\" y=\"-399.3\" font-family=\"Times,serif\" font-size=\"14.00\" fill=\"#000000\"> %out = alloca i32</text>\n",
       "<text text-anchor=\"start\" x=\"89\" y=\"-384.3\" font-family=\"Times,serif\" font-size=\"14.00\" fill=\"#000000\"> %ct = alloca i32</text>\n",
       "<text text-anchor=\"start\" x=\"89\" y=\"-369.3\" font-family=\"Times,serif\" font-size=\"14.00\" fill=\"#000000\"> store i32 0, i32* %out</text>\n",
       "<text text-anchor=\"start\" x=\"89\" y=\"-354.3\" font-family=\"Times,serif\" font-size=\"14.00\" fill=\"#000000\"> store i32 0, i32* %ct</text>\n",
       "<text text-anchor=\"start\" x=\"89\" y=\"-339.3\" font-family=\"Times,serif\" font-size=\"14.00\" fill=\"#000000\"> br label %loop.header</text>\n",
       "</g>\n",
       "<!-- Node0x7fc1c5a27270 -->\n",
       "<g id=\"node2\" class=\"node\">\n",
       "<title>Node0x7fc1c5a27270</title>\n",
       "<polygon fill=\"none\" stroke=\"#000000\" points=\"15.5,-203.5 15.5,-294.5 290.5,-294.5 290.5,-203.5 15.5,-203.5\"/>\n",
       "<text text-anchor=\"start\" x=\"23.5\" y=\"-279.3\" font-family=\"Times,serif\" font-size=\"14.00\" fill=\"#000000\">loop.header: </text>\n",
       "<text text-anchor=\"start\" x=\"23.5\" y=\"-264.3\" font-family=\"Times,serif\" font-size=\"14.00\" fill=\"#000000\"> %.6 = load i32, i32* %ct</text>\n",
       "<text text-anchor=\"start\" x=\"23.5\" y=\"-249.3\" font-family=\"Times,serif\" font-size=\"14.00\" fill=\"#000000\"> %.7 = icmp slt i32 %.6, %N</text>\n",
       "<text text-anchor=\"start\" x=\"23.5\" y=\"-234.3\" font-family=\"Times,serif\" font-size=\"14.00\" fill=\"#000000\"> br i1 %.7, label %loop.body, label %loop.end</text>\n",
       "<polyline fill=\"none\" stroke=\"#000000\" points=\"15.5,-226.5 290.5,-226.5 \"/>\n",
       "<text text-anchor=\"middle\" x=\"84.5\" y=\"-211.3\" font-family=\"Times,serif\" font-size=\"14.00\" fill=\"#000000\">T</text>\n",
       "<polyline fill=\"none\" stroke=\"#000000\" points=\"153.5,-203.5 153.5,-226.5 \"/>\n",
       "<text text-anchor=\"middle\" x=\"222\" y=\"-211.3\" font-family=\"Times,serif\" font-size=\"14.00\" fill=\"#000000\">F</text>\n",
       "</g>\n",
       "<!-- Node0x7fc1c5a475a0&#45;&gt;Node0x7fc1c5a27270 -->\n",
       "<g id=\"edge1\" class=\"edge\">\n",
       "<title>Node0x7fc1c5a475a0-&gt;Node0x7fc1c5a27270</title>\n",
       "<path fill=\"none\" stroke=\"#000000\" d=\"M153,-331.1601C153,-322.5696 153,-313.5798 153,-304.8299\"/>\n",
       "<polygon fill=\"#000000\" stroke=\"#000000\" points=\"156.5001,-304.7068 153,-294.7068 149.5001,-304.7069 156.5001,-304.7068\"/>\n",
       "</g>\n",
       "<!-- Node0x7fc1c5a480c0 -->\n",
       "<g id=\"node3\" class=\"node\">\n",
       "<title>Node0x7fc1c5a480c0</title>\n",
       "<polygon fill=\"none\" stroke=\"#000000\" points=\"0,-23.5 0,-166.5 168,-166.5 168,-23.5 0,-23.5\"/>\n",
       "<text text-anchor=\"start\" x=\"8\" y=\"-151.3\" font-family=\"Times,serif\" font-size=\"14.00\" fill=\"#000000\">loop.body: </text>\n",
       "<text text-anchor=\"start\" x=\"8\" y=\"-136.3\" font-family=\"Times,serif\" font-size=\"14.00\" fill=\"#000000\"> %.9 = load i32, i32* %out</text>\n",
       "<text text-anchor=\"start\" x=\"8\" y=\"-121.3\" font-family=\"Times,serif\" font-size=\"14.00\" fill=\"#000000\"> %.10 = load i32, i32* %ct</text>\n",
       "<text text-anchor=\"start\" x=\"8\" y=\"-106.3\" font-family=\"Times,serif\" font-size=\"14.00\" fill=\"#000000\"> %.11 = add i32 %.9, %.10</text>\n",
       "<text text-anchor=\"start\" x=\"8\" y=\"-91.3\" font-family=\"Times,serif\" font-size=\"14.00\" fill=\"#000000\"> store i32 %.11, i32* %out</text>\n",
       "<text text-anchor=\"start\" x=\"8\" y=\"-76.3\" font-family=\"Times,serif\" font-size=\"14.00\" fill=\"#000000\"> %.13 = load i32, i32* %ct</text>\n",
       "<text text-anchor=\"start\" x=\"8\" y=\"-61.3\" font-family=\"Times,serif\" font-size=\"14.00\" fill=\"#000000\"> %.14 = add i32 %.13, 1</text>\n",
       "<text text-anchor=\"start\" x=\"8\" y=\"-46.3\" font-family=\"Times,serif\" font-size=\"14.00\" fill=\"#000000\"> store i32 %.14, i32* %ct</text>\n",
       "<text text-anchor=\"start\" x=\"8\" y=\"-31.3\" font-family=\"Times,serif\" font-size=\"14.00\" fill=\"#000000\"> br label %loop.header</text>\n",
       "</g>\n",
       "<!-- Node0x7fc1c5a27270&#45;&gt;Node0x7fc1c5a480c0 -->\n",
       "<g id=\"edge2\" class=\"edge\">\n",
       "<title>Node0x7fc1c5a27270:s0-&gt;Node0x7fc1c5a480c0</title>\n",
       "<path fill=\"none\" stroke=\"#000000\" d=\"M84,-203C82.4035,-194.4856 81.0903,-185.5936 80.0602,-176.7259\"/>\n",
       "<polygon fill=\"#000000\" stroke=\"#000000\" points=\"83.5378,-176.3279 79.0175,-166.7457 76.5756,-177.0553 83.5378,-176.3279\"/>\n",
       "</g>\n",
       "<!-- Node0x7fc1c5a48120 -->\n",
       "<g id=\"node4\" class=\"node\">\n",
       "<title>Node0x7fc1c5a48120</title>\n",
       "<polygon fill=\"none\" stroke=\"#000000\" points=\"186.5,-68.5 186.5,-121.5 361.5,-121.5 361.5,-68.5 186.5,-68.5\"/>\n",
       "<text text-anchor=\"start\" x=\"194.5\" y=\"-106.3\" font-family=\"Times,serif\" font-size=\"14.00\" fill=\"#000000\">loop.end: </text>\n",
       "<text text-anchor=\"start\" x=\"194.5\" y=\"-91.3\" font-family=\"Times,serif\" font-size=\"14.00\" fill=\"#000000\"> %.17 = load i32, i32* %out</text>\n",
       "<text text-anchor=\"start\" x=\"194.5\" y=\"-76.3\" font-family=\"Times,serif\" font-size=\"14.00\" fill=\"#000000\"> ret i32 %.17</text>\n",
       "</g>\n",
       "<!-- Node0x7fc1c5a27270&#45;&gt;Node0x7fc1c5a48120 -->\n",
       "<g id=\"edge3\" class=\"edge\">\n",
       "<title>Node0x7fc1c5a27270:s1-&gt;Node0x7fc1c5a48120</title>\n",
       "<path fill=\"none\" stroke=\"#000000\" d=\"M222,-203C222,-176.8962 234.4847,-150.4439 247.2193,-130.2518\"/>\n",
       "<polygon fill=\"#000000\" stroke=\"#000000\" points=\"250.2627,-131.9945 252.8496,-121.7203 244.4203,-128.1388 250.2627,-131.9945\"/>\n",
       "</g>\n",
       "<!-- Node0x7fc1c5a480c0&#45;&gt;Node0x7fc1c5a27270 -->\n",
       "<g id=\"edge4\" class=\"edge\">\n",
       "<title>Node0x7fc1c5a480c0-&gt;Node0x7fc1c5a27270</title>\n",
       "<path fill=\"none\" stroke=\"#000000\" d=\"M89.0028,-166.5262C88.2009,-175.2043 87.1229,-184.0567 85.7689,-192.6967\"/>\n",
       "<polygon fill=\"#000000\" stroke=\"#000000\" points=\"82.2909,-192.2713 84.0526,-202.7186 89.1905,-193.4529 82.2909,-192.2713\"/>\n",
       "</g>\n",
       "</g>\n",
       "</svg>"
      ],
      "text/plain": [
       "<IPython.core.display.SVG object>"
      ]
     },
     "execution_count": 10,
     "metadata": {},
     "output_type": "execute_result"
    }
   ],
   "source": [
    "from llvmlite import binding as llvm\n",
    "\n",
    "dot = llvm.get_function_cfg(fn)\n",
    "llvm.view_dot_graph(dot)"
   ]
  },
  {
   "cell_type": "markdown",
   "metadata": {},
   "source": [
    "Optimize the function"
   ]
  },
  {
   "cell_type": "code",
   "execution_count": 11,
   "metadata": {
    "collapsed": false,
    "jupyter": {
     "outputs_hidden": false
    }
   },
   "outputs": [
    {
     "name": "stdout",
     "output_type": "stream",
     "text": [
      "; ModuleID = '<string>'\n",
      "source_filename = \"<string>\"\n",
      "target triple = \"unknown-unknown-unknown\"\n",
      "\n",
      "; Function Attrs: norecurse nounwind readnone\n",
      "define i32 @count_number(i32 %N) local_unnamed_addr #0 {\n",
      "entry:\n",
      "  %.71 = icmp sgt i32 %N, 0\n",
      "  br i1 %.71, label %loop.body.preheader, label %loop.end\n",
      "\n",
      "loop.body.preheader:                              ; preds = %entry\n",
      "  %0 = add i32 %N, -1\n",
      "  %1 = zext i32 %0 to i33\n",
      "  %2 = add i32 %N, -2\n",
      "  %3 = zext i32 %2 to i33\n",
      "  %4 = mul i33 %1, %3\n",
      "  %5 = lshr i33 %4, 1\n",
      "  %6 = trunc i33 %5 to i32\n",
      "  %7 = add i32 %6, %N\n",
      "  %8 = add i32 %7, -1\n",
      "  br label %loop.end\n",
      "\n",
      "loop.end:                                         ; preds = %loop.body.preheader, %entry\n",
      "  %out.0.lcssa = phi i32 [ 0, %entry ], [ %8, %loop.body.preheader ]\n",
      "  ret i32 %out.0.lcssa\n",
      "}\n",
      "\n",
      "attributes #0 = { norecurse nounwind readnone }\n",
      "\n"
     ]
    }
   ],
   "source": [
    "# materialize a LLVM module\n",
    "mod = llvm.parse_assembly(str(m))\n",
    "\n",
    "# create optimizer\n",
    "pmb = llvm.create_pass_manager_builder()\n",
    "# pmb.inlining_threshold = 2\n",
    "# pmb.opt_level = 3  # -O3\n",
    "\n",
    "pm = llvm.create_module_pass_manager()\n",
    "\n",
    "# need to initialize, otherwise pmb.populate fails\n",
    "llvm.initialize()\n",
    "llvm.initialize_native_target()\n",
    "llvm.initialize_native_asmprinter()\n",
    "\n",
    "pmb.populate(pm)\n",
    "\n",
    "# # optimize\n",
    "pm.run(mod)\n",
    "\n",
    "print(mod)"
   ]
  },
  {
   "cell_type": "markdown",
   "metadata": {},
   "source": [
    "View optimized CFG"
   ]
  },
  {
   "cell_type": "code",
   "execution_count": 12,
   "metadata": {
    "collapsed": false,
    "jupyter": {
     "outputs_hidden": false
    }
   },
   "outputs": [
    {
     "data": {
      "image/svg+xml": [
       "<svg xmlns=\"http://www.w3.org/2000/svg\" xmlns:xlink=\"http://www.w3.org/1999/xlink\" width=\"403pt\" height=\"408pt\" viewBox=\"0.00 0.00 403.00 408.00\">\n",
       "<g id=\"graph0\" class=\"graph\" transform=\"scale(1 1) rotate(0) translate(4 404)\">\n",
       "<title>CFG for 'count_number' function</title>\n",
       "<polygon fill=\"#ffffff\" stroke=\"transparent\" points=\"-4,4 -4,-404 399,-404 399,4 -4,4\"/>\n",
       "<text text-anchor=\"middle\" x=\"197.5\" y=\"-7.8\" font-family=\"Times,serif\" font-size=\"14.00\" fill=\"#000000\">CFG for 'count_number' function</text>\n",
       "<!-- Node0x7fc1c9314bb0 -->\n",
       "<g id=\"node1\" class=\"node\">\n",
       "<title>Node0x7fc1c9314bb0</title>\n",
       "<polygon fill=\"none\" stroke=\"#000000\" points=\"42,-323.5 42,-399.5 383,-399.5 383,-323.5 42,-323.5\"/>\n",
       "<text text-anchor=\"start\" x=\"50\" y=\"-384.3\" font-family=\"Times,serif\" font-size=\"14.00\" fill=\"#000000\">entry:</text>\n",
       "<text text-anchor=\"start\" x=\"50\" y=\"-369.3\" font-family=\"Times,serif\" font-size=\"14.00\" fill=\"#000000\"> %.71 = icmp sgt i32 %N, 0</text>\n",
       "<text text-anchor=\"start\" x=\"50\" y=\"-354.3\" font-family=\"Times,serif\" font-size=\"14.00\" fill=\"#000000\"> br i1 %.71, label %loop.body.preheader, label %loop.end</text>\n",
       "<polyline fill=\"none\" stroke=\"#000000\" points=\"42,-346.5 383,-346.5 \"/>\n",
       "<text text-anchor=\"middle\" x=\"127.5\" y=\"-331.3\" font-family=\"Times,serif\" font-size=\"14.00\" fill=\"#000000\">T</text>\n",
       "<polyline fill=\"none\" stroke=\"#000000\" points=\"213,-323.5 213,-346.5 \"/>\n",
       "<text text-anchor=\"middle\" x=\"298\" y=\"-331.3\" font-family=\"Times,serif\" font-size=\"14.00\" fill=\"#000000\">F</text>\n",
       "</g>\n",
       "<!-- Node0x7fc1c9321d30 -->\n",
       "<g id=\"node2\" class=\"node\">\n",
       "<title>Node0x7fc1c9321d30</title>\n",
       "<polygon fill=\"none\" stroke=\"#000000\" points=\"62.5,-113.5 62.5,-286.5 224.5,-286.5 224.5,-113.5 62.5,-113.5\"/>\n",
       "<text text-anchor=\"start\" x=\"70.5\" y=\"-271.3\" font-family=\"Times,serif\" font-size=\"14.00\" fill=\"#000000\">loop.body.preheader: </text>\n",
       "<text text-anchor=\"start\" x=\"70.5\" y=\"-256.3\" font-family=\"Times,serif\" font-size=\"14.00\" fill=\"#000000\"> %0 = add i32 %N, -1</text>\n",
       "<text text-anchor=\"start\" x=\"70.5\" y=\"-241.3\" font-family=\"Times,serif\" font-size=\"14.00\" fill=\"#000000\"> %1 = zext i32 %0 to i33</text>\n",
       "<text text-anchor=\"start\" x=\"70.5\" y=\"-226.3\" font-family=\"Times,serif\" font-size=\"14.00\" fill=\"#000000\"> %2 = add i32 %N, -2</text>\n",
       "<text text-anchor=\"start\" x=\"70.5\" y=\"-211.3\" font-family=\"Times,serif\" font-size=\"14.00\" fill=\"#000000\"> %3 = zext i32 %2 to i33</text>\n",
       "<text text-anchor=\"start\" x=\"70.5\" y=\"-196.3\" font-family=\"Times,serif\" font-size=\"14.00\" fill=\"#000000\"> %4 = mul i33 %1, %3</text>\n",
       "<text text-anchor=\"start\" x=\"70.5\" y=\"-181.3\" font-family=\"Times,serif\" font-size=\"14.00\" fill=\"#000000\"> %5 = lshr i33 %4, 1</text>\n",
       "<text text-anchor=\"start\" x=\"70.5\" y=\"-166.3\" font-family=\"Times,serif\" font-size=\"14.00\" fill=\"#000000\"> %6 = trunc i33 %5 to i32</text>\n",
       "<text text-anchor=\"start\" x=\"70.5\" y=\"-151.3\" font-family=\"Times,serif\" font-size=\"14.00\" fill=\"#000000\"> %7 = add i32 %6, %N</text>\n",
       "<text text-anchor=\"start\" x=\"70.5\" y=\"-136.3\" font-family=\"Times,serif\" font-size=\"14.00\" fill=\"#000000\"> %8 = add i32 %7, -1</text>\n",
       "<text text-anchor=\"start\" x=\"70.5\" y=\"-121.3\" font-family=\"Times,serif\" font-size=\"14.00\" fill=\"#000000\"> br label %loop.end</text>\n",
       "</g>\n",
       "<!-- Node0x7fc1c9314bb0&#45;&gt;Node0x7fc1c9321d30 -->\n",
       "<g id=\"edge1\" class=\"edge\">\n",
       "<title>Node0x7fc1c9314bb0:s0-&gt;Node0x7fc1c9321d30</title>\n",
       "<path fill=\"none\" stroke=\"#000000\" d=\"M127.5,-323.5C127.5,-314.7818 127.897,-305.746 128.5659,-296.7088\"/>\n",
       "<polygon fill=\"#000000\" stroke=\"#000000\" points=\"132.0722,-296.7819 129.43,-286.5218 125.0972,-296.1902 132.0722,-296.7819\"/>\n",
       "</g>\n",
       "<!-- Node0x7fc1c9315060 -->\n",
       "<g id=\"node3\" class=\"node\">\n",
       "<title>Node0x7fc1c9315060</title>\n",
       "<polygon fill=\"none\" stroke=\"#000000\" points=\"0,-23.5 0,-76.5 395,-76.5 395,-23.5 0,-23.5\"/>\n",
       "<text text-anchor=\"start\" x=\"8\" y=\"-61.3\" font-family=\"Times,serif\" font-size=\"14.00\" fill=\"#000000\">loop.end: </text>\n",
       "<text text-anchor=\"start\" x=\"8\" y=\"-46.3\" font-family=\"Times,serif\" font-size=\"14.00\" fill=\"#000000\"> %out.0.lcssa = phi i32 [ 0, %entry ], [ %8, %loop.body.preheader ]</text>\n",
       "<text text-anchor=\"start\" x=\"8\" y=\"-31.3\" font-family=\"Times,serif\" font-size=\"14.00\" fill=\"#000000\"> ret i32 %out.0.lcssa</text>\n",
       "</g>\n",
       "<!-- Node0x7fc1c9314bb0&#45;&gt;Node0x7fc1c9315060 -->\n",
       "<g id=\"edge2\" class=\"edge\">\n",
       "<title>Node0x7fc1c9314bb0:s1-&gt;Node0x7fc1c9315060</title>\n",
       "<path fill=\"none\" stroke=\"#000000\" d=\"M298.5,-323.5C298.5,-233.2527 249.5087,-136.0488 219.7674,-85.354\"/>\n",
       "<polygon fill=\"#000000\" stroke=\"#000000\" points=\"222.7587,-83.5363 214.6333,-76.7372 216.7452,-87.1194 222.7587,-83.5363\"/>\n",
       "</g>\n",
       "<!-- Node0x7fc1c9321d30&#45;&gt;Node0x7fc1c9315060 -->\n",
       "<g id=\"edge3\" class=\"edge\">\n",
       "<title>Node0x7fc1c9321d30-&gt;Node0x7fc1c9315060</title>\n",
       "<path fill=\"none\" stroke=\"#000000\" d=\"M174.7556,-113.1788C178.1383,-103.7824 181.4296,-94.6399 184.4098,-86.3615\"/>\n",
       "<polygon fill=\"#000000\" stroke=\"#000000\" points=\"187.7819,-87.3276 187.876,-76.7332 181.1957,-84.9566 187.7819,-87.3276\"/>\n",
       "</g>\n",
       "</g>\n",
       "</svg>"
      ],
      "text/plain": [
       "<IPython.core.display.SVG object>"
      ]
     },
     "execution_count": 12,
     "metadata": {},
     "output_type": "execute_result"
    }
   ],
   "source": [
    "dot = llvm.get_function_cfg(mod.get_function(fn.name))\n",
    "llvm.view_dot_graph(dot)"
   ]
  },
  {
   "cell_type": "markdown",
   "metadata": {},
   "source": [
    "Notice LLVM has optimized the looping away."
   ]
  },
  {
   "cell_type": "code",
   "execution_count": null,
   "metadata": {},
   "outputs": [],
   "source": []
  }
 ],
 "metadata": {
  "kernelspec": {
   "display_name": "Python 3.8.2 (Raccoon)",
   "language": "python",
   "name": "python38-raccoon"
  },
  "language_info": {
   "codemirror_mode": {
    "name": "ipython",
    "version": 3
   },
   "file_extension": ".py",
   "mimetype": "text/x-python",
   "name": "python",
   "nbconvert_exporter": "python",
   "pygments_lexer": "ipython3",
   "version": "3.8.2"
  }
 },
 "nbformat": 4,
 "nbformat_minor": 4
}
